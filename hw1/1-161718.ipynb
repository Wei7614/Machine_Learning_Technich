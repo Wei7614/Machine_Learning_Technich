{
 "cells": [
  {
   "cell_type": "code",
   "execution_count": 1,
   "metadata": {},
   "outputs": [
    {
     "name": "stdout",
     "output_type": "stream",
     "text": [
      "[[ 6.          0.3410918  -4.5289375 ]\n",
      " [ 5.          0.44413086 -5.4968125 ]\n",
      " [ 4.          0.23100195 -2.88675   ]\n",
      " ...\n",
      " [ 3.          0.39370508 -2.9211875 ]\n",
      " [ 0.          0.59758984 -2.2580625 ]\n",
      " [ 1.          0.2762207  -0.91625   ]]\n"
     ]
    }
   ],
   "source": [
    "import numpy as np\n",
    "import sklearn.svm as svm\n",
    "\n",
    "training_data = np.loadtxt('./features.train.txt')\n",
    "testing_data = np.loadtxt('./features.test.txt')\n",
    "\n",
    "print(training_data)"
   ]
  },
  {
   "cell_type": "code",
   "execution_count": 2,
   "metadata": {},
   "outputs": [
    {
     "name": "stdout",
     "output_type": "stream",
     "text": [
      "[[ 0.3410918  -4.5289375 ]\n",
      " [ 0.44413086 -5.4968125 ]\n",
      " [ 0.23100195 -2.88675   ]\n",
      " ...\n",
      " [ 0.39370508 -2.9211875 ]\n",
      " [ 0.59758984 -2.2580625 ]\n",
      " [ 0.2762207  -0.91625   ]]\n",
      "[[6.]\n",
      " [5.]\n",
      " [4.]\n",
      " ...\n",
      " [3.]\n",
      " [0.]\n",
      " [1.]]\n",
      "[[-1.]\n",
      " [-1.]\n",
      " [-1.]\n",
      " ...\n",
      " [-1.]\n",
      " [ 1.]\n",
      " [-1.]]\n"
     ]
    }
   ],
   "source": [
    "def get_x_y_datas(datasource):\n",
    "    return (datasource[:, 1:3], datasource[:, 0:1])\n",
    "\n",
    "x_train, y_train = get_x_y_datas(training_data)\n",
    "x_test, y_test = get_x_y_datas(testing_data)\n",
    "print(x_train)\n",
    "print(y_train)\n",
    "\n",
    "# 依照題意one of digit (+1) vs others (-1)\n",
    "def get_changed_y(y, target):\n",
    "    result = np.zeros(y.shape)\n",
    "    for idx in range(y.shape[0]):\n",
    "        result[idx, 0] = (1 if y[idx] == target else -1)\n",
    "    return result\n",
    "\n",
    "y_train_changed = get_changed_y(y_train, 0)\n",
    "print(y_train_changed)"
   ]
  },
  {
   "cell_type": "code",
   "execution_count": 3,
   "metadata": {},
   "outputs": [],
   "source": [
    "def q15():\n",
    "    classifier_15 = svm.SVC(C=0.01, kernel='linear')\n",
    "    classifier_15.fit(x_train, y_train_changed.ravel())\n",
    "    w = classifier_15.coef_\n",
    "\n",
    "    # 第15題答案\n",
    "    print(np.sqrt(np.sum(np.square(w))))\n"
   ]
  },
  {
   "cell_type": "code",
   "execution_count": 4,
   "metadata": {},
   "outputs": [],
   "source": [
    "import math\n",
    "\n",
    "def q1617():\n",
    "    error_min = math.inf\n",
    "    idx_min = 0\n",
    "    max_sum_alpha = 0\n",
    "    for idx in range(0,9,2):\n",
    "        y_train_changed_dynamic = get_changed_y(y_train, idx)\n",
    "        classification_16 = svm.SVC(C=0.01, kernel='poly', degree=2)\n",
    "        classification_16.fit(x_train, y_train_changed_dynamic.ravel())\n",
    "        y_pre = classification_16.predict(x_train)\n",
    "        error = np.fabs(np.sum(y_pre - y_train_changed_dynamic.ravel()))/2.\n",
    "        if error <= error_min:\n",
    "            error_min = error\n",
    "            idx_min = idx\n",
    "        max_sum_alpha = np.sum(np.fabs(classification_16.dual_coef_)) if np.sum(np.fabs(classification_16.dual_coef_)) > max_sum_alpha else max_sum_alpha  \n",
    "    # 第16題答案\n",
    "    print('min idx =', idx_min)\n",
    "\n",
    "    # 第17題答案\n",
    "    print('max sum of alpha =', max_sum_alpha)"
   ]
  },
  {
   "cell_type": "code",
   "execution_count": 5,
   "metadata": {},
   "outputs": [],
   "source": [
    "y_test_changed = get_changed_y(y_test, 0)\n",
    "all_C = [0.001, 0.01, 0.1, 1, 10]\n",
    "\n",
    "def q18():\n",
    "    for idx, c in enumerate(all_C):\n",
    "        classification_18 = svm.SVC(C=c, kernel='rbf', gamma=100)\n",
    "        classification_18.fit(x_train, y_train_changed.ravel())\n",
    "        print('c =', c)\n",
    "        support = classification_18.support_vectors_\n",
    "        print('num of SV =', len(support))\n",
    "        e_out = np.sum(np.fabs(classification_18.predict(x_test) - y_test_changed.ravel()))/(2 * len(x_test))\n",
    "        print('E_out = {: .4f}' .format(e_out)) "
   ]
  },
  {
   "cell_type": "code",
   "execution_count": 6,
   "metadata": {},
   "outputs": [],
   "source": [
    "gammas = [1, 10, 100, 1000, 10000]\n",
    "\n",
    "def q19():\n",
    "    e_out_min = math.inf\n",
    "    idx_min = 0\n",
    "    for idx, g in enumerate(gammas):\n",
    "        classification_19 = svm.SVC(C=0.1, kernel='rbf', gamma=g)\n",
    "        classification_19.fit(x_train, y_train_changed.ravel())\n",
    "        e_out = np.sum(np.fabs(classification_19.predict(x_test) - y_test_changed.ravel()))/(2 * len(x_test))\n",
    "        if e_out < e_out_min:\n",
    "            idx_min = idx\n",
    "            e_out_min = e_out\n",
    "    print('min gamma = ', gammas[idx_min])"
   ]
  },
  {
   "cell_type": "code",
   "execution_count": 7,
   "metadata": {
    "pycharm": {
     "name": "#%%\n"
    }
   },
   "outputs": [],
   "source": [
    "import random\n",
    "\n",
    "\n",
    "def q20():\n",
    "    counts = {1:0, 10:0, 100:0, 1000:0, 10000:0}\n",
    "    indeis = list(range(len(x_train)))\n",
    "    for idx in range(100):\n",
    "        if idx % 10 == 0:\n",
    "            print(\"run =\", idx)\n",
    "        e_out_min = math.inf\n",
    "        g_min = 0\n",
    "        random.shuffle(indeis)\n",
    "        for idx, g in enumerate(gammas):\n",
    "            classification = svm.SVC(C=0.1, kernel='rbf', gamma=g)\n",
    "            classification.fit(x_train[indeis[1000:]], y_train_changed[indeis[1000:]].ravel())\n",
    "            e_out = np.sum(np.fabs(classification.predict(x_test) - y_test_changed.ravel()))/(2 * len(x_test))\n",
    "            if e_out < e_out_min:\n",
    "                g_min = g\n",
    "                e_out_min = e_out \n",
    "        counts[g_min] += 1\n",
    "    print('the most frequency gamma is', max(counts.items(), key = lambda x:x[1]))\n"
   ]
  },
  {
   "cell_type": "code",
   "execution_count": 8,
   "metadata": {},
   "outputs": [
    {
     "name": "stdout",
     "output_type": "stream",
     "text": [
      "q15\n",
      "0.5713171494256942\n",
      "--------------\n",
      "q16,17\n",
      "min idx = 8\n",
      "max sum of alpha = 23.88\n",
      "--------------\n",
      "q18\n",
      "c = 0.001\n",
      "num of SV = 2398\n",
      "E_out =  0.1789\n",
      "c = 0.01\n",
      "num of SV = 2520\n",
      "E_out =  0.1789\n",
      "c = 0.1\n",
      "num of SV = 2285\n",
      "E_out =  0.1051\n",
      "c = 1\n",
      "num of SV = 1783\n",
      "E_out =  0.1036\n",
      "c = 10\n",
      "num of SV = 1675\n",
      "E_out =  0.1046\n",
      "--------------\n",
      "q19\n",
      "min gamma =  10\n",
      "--------------\n",
      "q20\n",
      "run = 0\n",
      "run = 10\n",
      "run = 20\n",
      "run = 30\n",
      "run = 40\n",
      "run = 50\n",
      "run = 60\n",
      "run = 70\n",
      "run = 80\n",
      "run = 90\n",
      "the most frequency gamma is (10, 100)\n"
     ]
    }
   ],
   "source": [
    "print(\"q15\")\n",
    "q15()\n",
    "print(\"--------------\")\n",
    "print(\"q16,17\")\n",
    "q1617()\n",
    "print(\"--------------\")\n",
    "print('q18')\n",
    "q18()\n",
    "print(\"--------------\")\n",
    "print('q19')\n",
    "q19()\n",
    "print(\"--------------\")\n",
    "print('q20')\n",
    "q20()\n"
   ]
  },
  {
   "cell_type": "code",
   "execution_count": null,
   "metadata": {},
   "outputs": [],
   "source": []
  },
  {
   "cell_type": "code",
   "execution_count": null,
   "metadata": {},
   "outputs": [],
   "source": []
  }
 ],
 "metadata": {
  "kernelspec": {
   "display_name": "Python 3",
   "language": "python",
   "name": "python3"
  },
  "language_info": {
   "codemirror_mode": {
    "name": "ipython",
    "version": 3
   },
   "file_extension": ".py",
   "mimetype": "text/x-python",
   "name": "python",
   "nbconvert_exporter": "python",
   "pygments_lexer": "ipython3",
   "version": "3.8.2"
  }
 },
 "nbformat": 4,
 "nbformat_minor": 1
}