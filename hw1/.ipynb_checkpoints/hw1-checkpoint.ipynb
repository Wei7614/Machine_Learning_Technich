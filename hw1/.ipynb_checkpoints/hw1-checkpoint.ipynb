{
 "cells": [
  {
   "cell_type": "code",
   "execution_count": 13,
   "metadata": {},
   "outputs": [],
   "source": [
    "import numpy as np\n",
    "import matplotlib.pyplot as plt"
   ]
  },
  {
   "cell_type": "code",
   "execution_count": 4,
   "metadata": {},
   "outputs": [],
   "source": [
    "def phi_one(vec):\n",
    "    x_1 = vec[0]\n",
    "    x_2 = vec[1]\n",
    "    return x_2 * x_2 - 2. * x_1 + 3\n",
    "\n",
    "def phi_two(vec):\n",
    "    x_1 = vec[0]\n",
    "    x_2 = vec[1]\n",
    "    return x_1 * x_1 - 2. * x_2 - 3"
   ]
  },
  {
   "cell_type": "code",
   "execution_count": 37,
   "metadata": {},
   "outputs": [
    {
     "data": {
      "text/plain": [
       "[-2.0, -5.0, -1.0, -2.0, -7.0, 1.0, 1.0]"
      ]
     },
     "execution_count": 37,
     "metadata": {},
     "output_type": "execute_result"
    }
   ],
   "source": [
    "x1 = np.array([1, 0, -1])\n",
    "x2 = np.array([0, 1, -1])\n",
    "x3 = np.array([0, -1, -1])\n",
    "x4 = np.array([-1, 0, 1])\n",
    "x5 = np.array([0, 2, 1])\n",
    "x6 = np.array([0, -2, 1])\n",
    "x7 = np.array([-2, 0, 1])\n",
    "x_space = [x1, x2, x3, x4, x5, x6, x7]\n",
    "z_1 = []\n",
    "z_2 = []\n",
    "markers = []\n",
    "for idx, data in enumerate(x_space):\n",
    "    z_1.append(phi_one(data))\n",
    "    z_2.append(phi_two(data)) \n",
    "    markers.append('o' if data[2] == 1 else 'x')"
   ]
  },
  {
   "cell_type": "code",
   "execution_count": 38,
   "metadata": {},
   "outputs": [
    {
     "data": {
      "image/png": "[encoded data removed]",
      "text/plain": [
       "<Figure size 432x288 with 1 Axes>"
      ]
     },
     "metadata": {
      "needs_background": "light"
     },
     "output_type": "display_data"
    }
   ],
   "source": [
    "for _z1, _z2, _marker in zip(z_1, z_2, markers):\n",
    "    plt.scatter(_z1, _z2, marker=_marker, c='red')\n",
    "    \n",
    "plt.show()"
   ]
  },
  {
   "cell_type": "markdown",
   "metadata": {},
   "source": [
    "第二題答案<br/>\n",
    "從上圖可知 z1 = 4.5有條線可以切開"
   ]
  },
  {
   "cell_type": "code",
   "execution_count": null,
   "metadata": {},
   "outputs": [],
   "source": []
  }
 ],
 "metadata": {
  "kernelspec": {
   "display_name": "Python 3",
   "language": "python",
   "name": "python3"
  },
  "language_info": {
   "codemirror_mode": {
    "name": "ipython",
    "version": 3
   },
   "file_extension": ".py",
   "mimetype": "text/x-python",
   "name": "python",
   "nbconvert_exporter": "python",
   "pygments_lexer": "ipython3",
   "version": "3.9.2"
  }
 },
 "nbformat": 4,
 "nbformat_minor": 1
}
