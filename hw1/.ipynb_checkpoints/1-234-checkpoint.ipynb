{
 "cells": [
  {
   "cell_type": "code",
   "execution_count": 1,
   "metadata": {},
   "outputs": [],
   "source": [
    "import numpy as np\n",
    "import matplotlib.pyplot as plt"
   ]
  },
  {
   "cell_type": "code",
   "execution_count": 2,
   "metadata": {},
   "outputs": [],
   "source": [
    "def phi_one(vec):\n",
    "    x_1 = vec[0]\n",
    "    x_2 = vec[1]\n",
    "    return x_2 * x_2 - 2. * x_1 + 3\n",
    "\n",
    "def phi_two(vec):\n",
    "    x_1 = vec[0]\n",
    "    x_2 = vec[1]\n",
    "    return x_1 * x_1 - 2. * x_2 - 3"
   ]
  },
  {
   "cell_type": "code",
   "execution_count": 3,
   "metadata": {},
   "outputs": [],
   "source": [
    "x_datas = [[1, 0], [0, 1], [0, -1], [-1, 0], [0, 2], [0, -2], [-2, 0]]\n",
    "y_datas = [-1, -1, -1, 1, 1, 1, 1]\n",
    "z_datas = []\n",
    "\n",
    "for idx, data in enumerate(x_datas):  \n",
    "    z_datas.append(np.array([[phi_one(data), phi_two(data)]]))"
   ]
  },
  {
   "cell_type": "code",
   "execution_count": 4,
   "metadata": {},
   "outputs": [
    {
     "data": {
      "image/png": "[encoded data removed]",
      "text/plain": [
       "<Figure size 432x288 with 1 Axes>"
      ]
     },
     "metadata": {
      "needs_background": "light"
     },
     "output_type": "display_data"
    }
   ],
   "source": [
    "for idx, z in enumerate(z_datas):\n",
    "    plt.scatter(z[0][0], z[0][1], marker= 'o' if y_datas[idx] == 1 else 'x' , c='red')\n",
    "\n",
    "plt.xlabel('z1')\n",
    "plt.ylabel('z2')\n",
    "plt.show()"
   ]
  },
  {
   "cell_type": "markdown",
   "metadata": {},
   "source": [
    "第二題答案<br/>\n",
    "從上圖可知 z1 = 4.5有條線可以切開"
   ]
  },
  {
   "cell_type": "code",
   "execution_count": 5,
   "metadata": {},
   "outputs": [],
   "source": [
    "def kernal_function(x, x_pri):\n",
    "    return np.power(1+(np.dot(np.asarray(x_pri), np.transpose(np.asarray(x)))), 2)"
   ]
  },
  {
   "cell_type": "code",
   "execution_count": 6,
   "metadata": {},
   "outputs": [
    {
     "name": "stdout",
     "output_type": "stream",
     "text": [
      "[ 4.00e+00  1.00e+00  1.00e+00  0.00e+00 -1.00e+00 -1.00e+00 -1.00e+00]\n",
      "[ 1.00e+00  4.00e+00  0.00e+00 -1.00e+00 -9.00e+00 -1.00e+00 -1.00e+00]\n",
      "[ 1.00e+00  0.00e+00  4.00e+00 -1.00e+00 -1.00e+00 -9.00e+00 -1.00e+00]\n",
      "[ 0.00e+00 -1.00e+00 -1.00e+00  4.00e+00  1.00e+00  1.00e+00  9.00e+00]\n",
      "[-1.00e+00 -9.00e+00 -1.00e+00  1.00e+00  2.50e+01  9.00e+00  1.00e+00]\n",
      "[-1.00e+00 -1.00e+00 -9.00e+00  1.00e+00  9.00e+00  2.50e+01  1.00e+00]\n",
      "[-1.00e+00 -1.00e+00 -1.00e+00  9.00e+00  1.00e+00  1.00e+00  2.50e+01]\n",
      " [-1.00e+00]\n",
      "[-1.00e+00]\n",
      "[-1.00e+00]\n",
      "[-1.00e+00]\n",
      "[-1.00e+00]\n",
      "[-1.00e+00]\n",
      "[-1.00e+00]\n",
      " [-1.00e+00 -1.00e+00 -1.00e+00  1.00e+00  1.00e+00  1.00e+00  1.00e+00]\n",
      "[ 1.00e+00  1.00e+00  1.00e+00 -1.00e+00 -1.00e+00 -1.00e+00 -1.00e+00]\n",
      "[-1.00e+00  0.00e+00  0.00e+00  0.00e+00  0.00e+00  0.00e+00  0.00e+00]\n",
      "[ 0.00e+00 -1.00e+00  0.00e+00  0.00e+00  0.00e+00  0.00e+00  0.00e+00]\n",
      "[ 0.00e+00  0.00e+00 -1.00e+00  0.00e+00  0.00e+00  0.00e+00  0.00e+00]\n",
      "[ 0.00e+00  0.00e+00  0.00e+00 -1.00e+00  0.00e+00  0.00e+00  0.00e+00]\n",
      "[ 0.00e+00  0.00e+00  0.00e+00  0.00e+00 -1.00e+00  0.00e+00  0.00e+00]\n",
      "[ 0.00e+00  0.00e+00  0.00e+00  0.00e+00  0.00e+00 -1.00e+00  0.00e+00]\n",
      "[ 0.00e+00  0.00e+00  0.00e+00  0.00e+00  0.00e+00  0.00e+00 -1.00e+00]\n",
      " [ 0.00e+00]\n",
      "[ 0.00e+00]\n",
      "[ 0.00e+00]\n",
      "[ 0.00e+00]\n",
      "[ 0.00e+00]\n",
      "[ 0.00e+00]\n",
      "[ 0.00e+00]\n",
      "[ 0.00e+00]\n",
      "[ 0.00e+00]\n",
      "\n",
      "     pcost       dcost       gap    pres   dres\n",
      " 0: -2.2094e+00 -4.6670e+00  2e+01  4e+00  2e+00\n",
      " 1: -3.4669e+00 -4.4487e+00  7e+00  1e+00  6e-01\n",
      " 2: -1.2955e+00 -2.1369e+00  1e+00  5e-02  2e-02\n",
      " 3: -1.3959e+00 -1.4567e+00  7e-02  1e-03  6e-04\n",
      " 4: -1.4073e+00 -1.4079e+00  7e-04  1e-05  6e-06\n",
      " 5: -1.4074e+00 -1.4074e+00  7e-06  1e-07  6e-08\n",
      " 6: -1.4074e+00 -1.4074e+00  7e-08  1e-09  6e-10\n",
      "Optimal solution found.\n",
      "alphas =\n",
      " [ 6.69e-09]\n",
      "[ 7.04e-01]\n",
      "[ 7.04e-01]\n",
      "[ 8.89e-01]\n",
      "[ 2.59e-01]\n",
      "[ 2.59e-01]\n",
      "[ 6.39e-10]\n",
      "\n",
      "sum alphas = 2.814814850082563\n"
     ]
    }
   ],
   "source": [
    "# 第三題要用到quadratic programing\n",
    "# optimal alpha = QP(Q_D, p, A, c)\n",
    "# Q_D is m x n matrix\n",
    "# -> q_mn = y_n * y_m * (z_n).T * z_m = y_n * y_m * k(x_n, x_m)\n",
    "# p = -1\n",
    "# A = y or -y\n",
    "# c = 0\n",
    "from cvxopt import matrix, solvers\n",
    "\n",
    "data_size = len(x_datas)\n",
    "Q = np.zeros((data_size, data_size))\n",
    "for i in range(data_size):\n",
    "    x_n = x_datas[i]\n",
    "    y_n = y_datas[i]\n",
    "    for j in range(data_size):\n",
    "        x_m = x_datas[j]\n",
    "        y_m = y_datas[j]\n",
    "        q_nm = y_n * y_m * kernal_function(x_n, x_m)\n",
    "        Q[i][j] = q_nm\n",
    "p = - 1 * np.ones((data_size, 1))\n",
    "A = np.zeros((2 + data_size, data_size))\n",
    "for idx, y in enumerate(y_datas):\n",
    "    A[0][idx] = y\n",
    "    A[1][idx] = -1 * y\n",
    "    A[2 + idx][idx] = -1\n",
    "c = np.zeros((data_size + 2, 1))\n",
    "\n",
    "P = matrix(Q)\n",
    "q = matrix(p)\n",
    "G = matrix(A)\n",
    "h = matrix(c)\n",
    "\n",
    "print(P, q, G, h)\n",
    "\n",
    "x = solvers.qp(P, q, G, h)\n",
    "alphas = x['x']\n",
    "# 第三題答案\n",
    "print('alphas =\\n', alphas)\n",
    "print('sum alphas =', np.sum(alphas))"
   ]
  },
  {
   "cell_type": "code",
   "execution_count": 7,
   "metadata": {
    "pycharm": {
     "name": "#%%\n"
    }
   },
   "outputs": [
    {
     "name": "stdout",
     "output_type": "stream",
     "text": [
      "[[ 8.88888895e-01  6.66666684e-01  0.00000000e+00 -8.88888907e-01\n",
      "  -2.55351296e-15 -1.58671977e-10]]\n",
      "-1.6666666836075745\n"
     ]
    }
   ],
   "source": [
    "# w = sum_n(alpha_n * y_n * z_n)\n",
    "# b = y_s - sum_n(alpha_n * y_n * kernal(x_n, x_s) )\n",
    "\n",
    "def space_transform(x):\n",
    "    return np.array([(x[0] * x[0], x[1] * x[1], x[0] * x[1], x[0], x[1], 1)])\n",
    "\n",
    "w = np.zeros((1, 6))\n",
    "for idx, x in enumerate(x_datas):\n",
    "    w += alphas[idx] * y_datas[idx] * space_transform(x)\n",
    "    \n",
    "b = y_datas[1]\n",
    "for idx, x in enumerate(x_datas):\n",
    "    b -= alphas[idx] * y_datas[idx] * kernal_function(x, x_datas[1])\n",
    "print(w)\n",
    "print(b)"
   ]
  },
  {
   "cell_type": "code",
   "execution_count": 8,
   "metadata": {
    "pycharm": {
     "name": "#%%\n"
    }
   },
   "outputs": [
    {
     "name": "stdout",
     "output_type": "stream",
     "text": [
      "[[ 1  0]\n",
      " [ 0  1]\n",
      " [ 0 -1]\n",
      " [-1  0]\n",
      " [ 0  2]\n",
      " [ 0 -2]\n",
      " [-2  0]] ____ [[1, 0], [0, 1], [0, -1], [-1, 0], [0, 2], [0, -2], [-2, 0]]\n",
      "     pcost       dcost       gap    pres   dres\n",
      " 0: -4.5447e+00 -9.6865e+00  2e+01  3e+00  2e+00\n",
      " 1: -1.9144e+01 -2.0756e+01  7e+00  2e+00  1e+00\n",
      " 2: -7.8931e+02 -7.9284e+02  8e+00  2e+00  1e+00\n",
      " 3: -2.6245e+05 -2.6246e+05  1e+01  2e+00  1e+00\n",
      " 4: -7.5838e+09 -7.5838e+09  5e+03  2e+00  1e+00\n",
      " 5: -4.6574e+10 -4.6574e+10  3e+04  2e+00  1e+00\n",
      "Terminated (singular KKT matrix).\n"
     ]
    }
   ],
   "source": [
    "from SVM import SVM as cusSVM\n",
    "\n",
    "cusSVM = cusSVM()\n",
    "x_t = np.asarray(x_datas)\n",
    "y_t = np.asarray(y_datas)\n",
    "y_t = y_t.reshape(7,1)\n",
    "cusSVM.fit(x_t, y_t)"
   ]
  },
  {
   "cell_type": "code",
   "execution_count": null,
   "metadata": {},
   "outputs": [],
   "source": []
  }
 ],
 "metadata": {
  "kernelspec": {
   "display_name": "PyCharm (hw1)",
   "language": "python",
   "name": "pycharm-36c07003"
  },
  "language_info": {
   "codemirror_mode": {
    "name": "ipython",
    "version": 3
   },
   "file_extension": ".py",
   "mimetype": "text/x-python",
   "name": "python",
   "nbconvert_exporter": "python",
   "pygments_lexer": "ipython3",
   "version": "3.8.2"
  }
 },
 "nbformat": 4,
 "nbformat_minor": 1
}
